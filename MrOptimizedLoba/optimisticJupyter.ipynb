{
 "cells": [
  {
   "cell_type": "code",
   "execution_count": null,
   "metadata": {},
   "outputs": [],
   "source": [
    "import numpy as np\n",
    "import numba\n",
    "from numba import jit"
   ]
  },
  {
   "cell_type": "code",
   "execution_count": null,
   "metadata": {},
   "outputs": [],
   "source": [
    "@jit(nopython=True)\n",
    "def ellipse( xc , yc , ax1 , ax2 , angle , X_circle , Y_circle ):\n",
    "\n",
    "    cos_angle = np.cos(angle*np.pi/180)\n",
    "    sin_angle = np.sin(angle*np.pi/180)\n",
    "\n",
    "    # x1 = xc + ax1 * cos_angle\n",
    "    # y1 = yc + ax1 * sin_angle\n",
    "\n",
    "    # x2 = xc - ax2 * sin_angle\n",
    "    # y2 = yc + ax2 * cos_angle\n",
    "\n",
    "    X = ax1 * X_circle\n",
    "    Y = ax2 * Y_circle\n",
    "\n",
    "    xe = xc + X*cos_angle - Y*sin_angle\n",
    "    ye = yc + X*sin_angle + Y*cos_angle\n",
    "\n",
    "    return (xe,ye)"
   ]
  },
  {
   "cell_type": "code",
   "execution_count": null,
   "metadata": {},
   "outputs": [],
   "source": [
    "xc = 288830.0\n",
    "yc = 2150362.0\n",
    "ax1 = 26.081118798477803\n",
    "ax2 = 24.409220221209875\n",
    "angle = 39.8274074028988\n",
    "x_circle = np.full((30), 4.0)\n",
    "y_circle = np.full((30), 3.0)\n",
    "# x_circle = [ 1.0, 0.97662056,  0.90757542,  0.79609307,  0.64738628,  0.46840844,\n",
    "#   0.26752834, 0.05413891, -0.161782,   -0.37013816, -0.56118707, -0.72599549,\n",
    "#  -0.85685718, -0.94765317, -0.99413796, -0.99413796, -0.94765317, -0.85685718,\n",
    "#  -0.72599549, -0.56118707, -0.37013816, -0.161782,    0.05413891,  0.26752834,\n",
    "#   0.46840844,  0.64738628, 0.79609307,  0.90757542,  0.97662056,  1.0 ]\n",
    "# y_circle = [ 0.0,  2.14970440e-01,  4.19889102e-01,  6.05174215e-01,\n",
    "#   7.62162055e-01,  8.83512044e-01,  9.63549993e-01,  9.98533414e-01,\n",
    "#   9.86826523e-01,  9.28976720e-01,  8.27688998e-01,  6.87699459e-01,\n",
    "#   5.15553857e-01,  3.19301530e-01,  1.08119018e-01, -1.08119018e-01,\n",
    "#  -3.19301530e-01, -5.15553857e-01, -6.87699459e-01, -8.27688998e-01,\n",
    "#  -9.28976720e-01, -9.86826523e-01, -9.98533414e-01, -9.63549993e-01,\n",
    "#  -8.83512044e-01, -7.62162055e-01, -6.05174215e-01, -4.19889102e-01,\n",
    "#  -2.14970440e-01, -2.44929360e-16]\n",
    "\n",
    "print(len(x_circle))\n",
    "print(len(y_circle))"
   ]
  },
  {
   "cell_type": "code",
   "execution_count": null,
   "metadata": {},
   "outputs": [],
   "source": [
    "ellipse(xc, yc, ax1, ax2, angle, x_circle, y_circle)"
   ]
  },
  {
   "cell_type": "code",
   "execution_count": null,
   "metadata": {},
   "outputs": [],
   "source": [
    "%timeit ellipse(xc, yc, ax1, ax2, angle, x_circle, y_circle)"
   ]
  },
  {
   "cell_type": "code",
   "execution_count": null,
   "metadata": {},
   "outputs": [],
   "source": [
    "%timeit ellipse.py_func(xc, yc, ax1, ax2, angle, x_circle, y_circle)"
   ]
  },
  {
   "cell_type": "code",
   "execution_count": null,
   "metadata": {},
   "outputs": [],
   "source": [
    "\n",
    "\n",
    "# read the run parameters form the file input_data.py\n",
    "@jit(nopython=True)\n",
    "def load_settings(n_vents,x_vent,y_vent):\n",
    "    cum_fiss_length = np.zeros(n_vents)\n",
    "\n",
    "    for j in range(1,n_vents):\n",
    "\n",
    "        delta_xvent =  x_vent[j] - x_vent[j-1]\n",
    "        delta_yvent =  y_vent[j] - y_vent[j-1]\n",
    "\n",
    "        cum_fiss_length[j] = cum_fiss_length[j-1] + np.sqrt( delta_xvent**2 + delta_yvent**2 )\n",
    "\n",
    "    if ( n_vents >1 ):\n",
    "        cum_fiss_length = cum_fiss_length / cum_fiss_length[j]\n",
    "\n",
    "    return cum_fiss_length\n",
    "\n",
    "\n",
    "   "
   ]
  },
  {
   "cell_type": "code",
   "execution_count": null,
   "metadata": {},
   "outputs": [],
   "source": [
    "# filling_parameter, n_vents, cum_fiss_length = load_settings()\n",
    "\n",
    "from input_data_advanced import *\n",
    "from input_data import *\n",
    "\n",
    "\n",
    "filling_parameter = 1 - thickening_parameter\n",
    "n_vents = len(x_vent)\n",
    "\n",
    "cum_fiss_length = load_settings(n_vents,np.ndarray(x_vent),np.ndarray(y_vent))\n",
    "\n",
    "print(\"Timing settings loading with numba\")\n",
    "%timeit load_settings(n_vents,np.ndarray(x_vent),np.ndarray(y_vent))\n",
    "\n",
    "print(\"Timing settings loading withOUT numba\")\n",
    "%timeit load_settings.py_func(n_vents,np.ndarray(x_vent),np.ndarray(y_vent))"
   ]
  }
 ],
 "metadata": {
  "interpreter": {
   "hash": "26de051ba29f2982a8de78e945f0abaf191376122a1563185a90213a26c5da77"
  },
  "kernelspec": {
   "display_name": "Python 3.10.4 64-bit",
   "language": "python",
   "name": "python3"
  },
  "language_info": {
   "codemirror_mode": {
    "name": "ipython",
    "version": 3
   },
   "file_extension": ".py",
   "mimetype": "text/x-python",
   "name": "python",
   "nbconvert_exporter": "python",
   "pygments_lexer": "ipython3",
   "version": "3.10.4"
  },
  "orig_nbformat": 4
 },
 "nbformat": 4,
 "nbformat_minor": 2
}
